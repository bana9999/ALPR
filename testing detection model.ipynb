{
 "cells": [
  {
   "cell_type": "code",
   "execution_count": 2,
   "metadata": {},
   "outputs": [
    {
     "name": "stdout",
     "output_type": "stream",
     "text": [
      "Defaulting to user installation because normal site-packages is not writeableNote: you may need to restart the kernel to use updated packages.\n",
      "\n"
     ]
    },
    {
     "name": "stderr",
     "output_type": "stream",
     "text": [
      "WARNING: Skipping C:\\Users\\Home\\AppData\\Roaming\\Python\\Python311\\site-packages\\numpy-1.24.3.dist-info due to invalid metadata entry 'name'\n",
      "ERROR: Could not open requirements file: [Errno 2] No such file or directory: 'requirements.txt'\n",
      "WARNING: Skipping C:\\Users\\Home\\AppData\\Roaming\\Python\\Python311\\site-packages\\numpy-1.24.3.dist-info due to invalid metadata entry 'name'\n",
      "WARNING: Skipping C:\\Users\\Home\\AppData\\Roaming\\Python\\Python311\\site-packages\\numpy-1.24.3.dist-info due to invalid metadata entry 'name'\n",
      "WARNING: Skipping C:\\Users\\Home\\AppData\\Roaming\\Python\\Python311\\site-packages\\numpy-1.24.3.dist-info due to invalid metadata entry 'name'\n"
     ]
    }
   ],
   "source": [
    "#Libraries\n",
    "import cv2\n",
    "import torch\n",
    "%pip install -r requirements.txt \n",
    "from PIL import Image"
   ]
  },
  {
   "cell_type": "code",
   "execution_count": 3,
   "metadata": {},
   "outputs": [],
   "source": [
    "import numpy as np\n",
    "import os\n",
    "\n",
    "def detect_license_plate(folder_path,  config_path, weights_path, confidence_threshold=0.5):\n",
    "    # Load the YOLOv5 model\n",
    "    model = torch.hub.load('C:\\\\Users\\\\Home\\\\Desktop\\\\ALPR system\\\\yolov5', 'custom', path=weights_path,source='local')\n",
    "    model.yaml = config_path\n",
    "\n",
    "    # Variables for accuracy calculation\n",
    "    total_boxes = 0\n",
    "    correct_boxes = 0\n",
    "\n",
    "    # Iterate over images in the folder\n",
    "    for filename in os.listdir(folder_path):\n",
    "        if filename.endswith('.jpg') or filename.endswith('.png'):  # Adjust the file extensions as needed\n",
    "            image_path = os.path.join(folder_path, filename)\n",
    "\n",
    "            # Load the input image\n",
    "            img = Image.open(image_path)\n",
    "            # Applying image preprocessing\n",
    "            image = cv2.cvtColor(cv2.imread(image_path), cv2.COLOR_BGR2GRAY)\n",
    "            image = cv2.medianBlur(image, 5)  # Apply median blur\n",
    "            image = cv2.GaussianBlur(image, (5, 5), 0)  # Apply Gaussian blur\n",
    "\n",
    "            # Run license plate detection on the preprocessed image\n",
    "            results = model(image)\n",
    "\n",
    "            # Get the bounding box coordinates and confidence scores for the detected license plates\n",
    "            pred = results.pred[0]\n",
    "            boxes = pred[:, :4].detach().numpy()\n",
    "            confidences = pred[:, 4].detach().numpy()\n",
    "\n",
    "            # Iterate over the license plate detections\n",
    "            for box, confidence in zip(boxes, confidences):\n",
    "                if confidence > confidence_threshold:\n",
    "                    # Draw the bounding box on the image\n",
    "                    x_min, y_min, x_max, y_max = box.astype(int)\n",
    "                    cv2.rectangle(image, (x_min, y_min), (x_max, y_max), (0, 255, 0), 2)\n",
    "                    # Crop the license plate region\n",
    "                    license_plate = img.crop((x_min, y_min, x_max, y_max))\n",
    "                    # Write the confidence score on the license plate image\n",
    "                    label = f\"Confidence: {confidence:.2f}\"\n",
    "                    cv2.putText(image, label, (x_min, y_min - 10), cv2.FONT_HERSHEY_SIMPLEX, 0.9, (0, 255, 0), 2)\n",
    "                    # Increase correct_boxes count\n",
    "                    correct_boxes += 1\n",
    "\n",
    "            # Increase total_boxes count\n",
    "            total_boxes += len(boxes)\n",
    "\n",
    "    # Calculate accuracy\n",
    "    accuracy = correct_boxes / total_boxes if total_boxes > 0 else 0\n",
    "\n",
    "    # Return the accuracy\n",
    "    return accuracy\n"
   ]
  },
  {
   "cell_type": "code",
   "execution_count": 4,
   "metadata": {},
   "outputs": [
    {
     "name": "stderr",
     "output_type": "stream",
     "text": [
      "YOLOv5  2023-6-2 Python-3.11.3 torch-2.0.1+cpu CPU\n",
      "\n",
      "Fusing layers... \n",
      "Model summary: 157 layers, 7012822 parameters, 0 gradients, 15.8 GFLOPs\n",
      "Adding AutoShape... \n"
     ]
    }
   ],
   "source": [
    "folder_path = 'C:\\\\Users\\\\Home\\\\Desktop\\\\ALPR system\\\\ALPR_GUI\\\\online dataset'\n",
    "config_path = 'C:\\\\Users\\\\Home\\\\Desktop\\\\ALPR system\\\\yolov5\\\\data\\\\coco128.yaml'\n",
    "weights_path = 'C:\\\\Users\\\\Home\\\\Desktop\\\\ALPR system\\\\best8.pt'\n",
    "accuracy = detect_license_plate(folder_path, config_path,weights_path)\n",
    "\n",
    "print(\"Accuracy:\", accuracy)"
   ]
  },
  {
   "cell_type": "code",
   "execution_count": null,
   "metadata": {},
   "outputs": [
    {
     "name": "stderr",
     "output_type": "stream",
     "text": [
      "YOLOv5  2023-6-2 Python-3.11.3 torch-2.0.1+cpu CPU\n",
      "\n",
      "Fusing layers... \n",
      "Model summary: 157 layers, 7012822 parameters, 0 gradients, 15.8 GFLOPs\n",
      "Adding AutoShape... \n"
     ]
    },
    {
     "name": "stdout",
     "output_type": "stream",
     "text": [
      "Accuracy: 0.9514563106796117\n"
     ]
    }
   ],
   "source": [
    "folder_path = 'C:\\\\Users\\\\Home\\\\Desktop\\\\ALPR system\\\\ALPR_GUI\\\\testing imges'\n",
    "config_path = 'C:\\\\Users\\\\Home\\\\Desktop\\\\ALPR system\\\\yolov5\\\\data\\\\coco128.yaml'\n",
    "weights_path = 'C:\\\\Users\\\\Home\\\\Desktop\\\\ALPR system\\\\best8.pt'\n",
    "accuracy = detect_license_plate(folder_path, config_path,weights_path)\n",
    "\n",
    "print(\"Accuracy:\", accuracy)"
   ]
  }
 ],
 "metadata": {
  "kernelspec": {
   "display_name": "Python 3",
   "language": "python",
   "name": "python3"
  },
  "language_info": {
   "codemirror_mode": {
    "name": "ipython",
    "version": 3
   },
   "file_extension": ".py",
   "mimetype": "text/x-python",
   "name": "python",
   "nbconvert_exporter": "python",
   "pygments_lexer": "ipython3",
   "version": "3.11.3"
  },
  "orig_nbformat": 4
 },
 "nbformat": 4,
 "nbformat_minor": 2
}
