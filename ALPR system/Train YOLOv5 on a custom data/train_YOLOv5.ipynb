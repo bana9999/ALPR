{
  "nbformat": 4,
  "nbformat_minor": 0,
  "metadata": {
    "colab": {
      "provenance": []
    },
    "kernelspec": {
      "name": "python3",
      "display_name": "Python 3"
    },
    "language_info": {
      "name": "python"
    }
  },
  "cells": [
    {
      "cell_type": "code",
      "execution_count": null,
      "metadata": {
        "id": "Tg_2kirSFlF0"
      },
      "outputs": [],
      "source": [
        "!git clone https://github.com/ultralytics/yolov5  \n",
        "%cd yolov5\n",
        "%pip install -qr requirements.txt  \n",
        "\n",
        "import torch\n",
        "import utils\n",
        "display = utils.notebook_init() "
      ]
    },
    {
      "cell_type": "code",
      "source": [
        "!python train.py --img 640 --batch 16 --epochs 8 --data /content/yolov5/data/new1coco128.yaml --weights yolov5s.pt --cache"
      ],
      "metadata": {
        "id": "nbvT6tT4FwgP"
      },
      "execution_count": null,
      "outputs": []
    }
  ]
}