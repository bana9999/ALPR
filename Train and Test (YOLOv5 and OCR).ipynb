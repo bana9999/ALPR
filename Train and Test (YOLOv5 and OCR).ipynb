{
  "nbformat": 4,
  "nbformat_minor": 0,
  "metadata": {
    "colab": {
      "provenance": []
    },
    "kernelspec": {
      "name": "python3",
      "display_name": "Python 3"
    },
    "language_info": {
      "name": "python"
    }
  },
  "cells": [
    {
      "cell_type": "code",
      "source": [
        "import shutil\n",
        "import os\n",
        "import requests"
      ],
      "metadata": {
        "id": "O_Y-MChYZpyh"
      },
      "execution_count": null,
      "outputs": []
    },
    {
      "cell_type": "code",
      "execution_count": null,
      "metadata": {
        "id": "izBJRocSZM6x"
      },
      "outputs": [],
      "source": [
        "!git clone https://github.com/ultralytics/yolov5  \n",
        "%cd yolov5\n",
        "%pip install -qr requirements.txt  "
      ]
    },
    {
      "cell_type": "code",
      "source": [
        "#Train the YOLO Model\n",
        "!python train.py --img 640 --batch 16 --epochs 8 --data /content/yolov5/data/new1coco128.yaml --weights yolov5s.pt --cache"
      ],
      "metadata": {
        "id": "BWV4XAB6ZQYd"
      },
      "execution_count": null,
      "outputs": []
    },
    {
      "cell_type": "code",
      "source": [
        "#Test the YOLO Model\n",
        "!python detect.py --weights /content/drive/MyDrive/Colab_Notebooks/best8.pt --img 640 --conf 0.25 --source /content/LP --save-crop"
      ],
      "metadata": {
        "id": "8SLA7lgkZWSr"
      },
      "execution_count": null,
      "outputs": []
    },
    {
      "cell_type": "code",
      "source": [
        "#Save the output of the YOLO testing line in Result Directory \n",
        "shutil.make_archive('Result', 'zip', '/content/yolov5/runs/detect/exp/crops')"
      ],
      "metadata": {
        "id": "vCBk2pCdZaZa"
      },
      "execution_count": null,
      "outputs": []
    },
    {
      "cell_type": "code",
      "source": [
        "model_id = '344f4216-a780-4b5f-b366-1d53e62fa05b'\n",
        "api_key = 'd5382ff4-008d-11ee-9688-5ae95f6e1ac0'\n",
        "\n",
        "folder_path = '/content/Result'\n",
        "\n",
        "\n",
        "for filename in os.listdir(folder_path):\n",
        "    file_path = os.path.join(folder_path, filename)\n",
        "    if os.path.isfile(file_path):\n",
        "        image_path = file_path\n",
        "        url = 'https://app.nanonets.com/api/v2/ObjectDetection/Model/' + model_id + '/LabelFile/'\n",
        "        data = {'file': open(image_path, 'rb'), 'modelId': ('', model_id)}\n",
        "        response = requests.post(url, auth=requests.auth.HTTPBasicAuth(api_key, ''), files=data)\n",
        "\n",
        "        res = response.json()\n",
        "\n",
        "        if 'result' in res and len(res['result']) > 0 and 'prediction' in res['result'][0] and len(res['result'][0]['prediction']) > 0:\n",
        "            ocr_text = res['result'][0]['prediction'][0]['ocr_text']\n",
        "            print(f\"OCR Text: {ocr_text}\")\n",
        "        else:\n",
        "            print(f\"OCR Text not found\")"
      ],
      "metadata": {
        "id": "NrvL06ShZ3B6"
      },
      "execution_count": null,
      "outputs": []
    }
  ]
}